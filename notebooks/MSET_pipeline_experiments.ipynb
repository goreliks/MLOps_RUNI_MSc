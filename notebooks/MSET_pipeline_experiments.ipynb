{
 "cells": [
  {
   "cell_type": "markdown",
   "source": [
    "# Imports"
   ],
   "metadata": {
    "collapsed": false
   },
   "id": "89a6e5dfece210c8"
  },
  {
   "cell_type": "code",
   "outputs": [],
   "source": [
    "# libraries importing\n",
    "import pandas as pd\n",
    "import matplotlib.pyplot as plt\n",
    "%matplotlib inline\n",
    "\n",
    "# additional modules\n",
    "import sys\n",
    "sys.path.append('../algorithms')\n",
    "\n",
    "import warnings\n",
    "warnings.filterwarnings(\"ignore\", category=UserWarning)\n",
    "warnings.filterwarnings(\"ignore\", category=RuntimeWarning)"
   ],
   "metadata": {
    "collapsed": false,
    "ExecuteTime": {
     "end_time": "2024-02-21T13:35:09.237045Z",
     "start_time": "2024-02-21T13:35:09.132305Z"
    }
   },
   "id": "df6dd6a75474552c",
   "execution_count": 76
  },
  {
   "cell_type": "code",
   "outputs": [
    {
     "name": "stdout",
     "output_type": "stream",
     "text": [
      "The autoreload extension is already loaded. To reload it, use:\n",
      "  %reload_ext autoreload\n"
     ]
    }
   ],
   "source": [
    "%load_ext autoreload\n",
    "%autoreload 2"
   ],
   "metadata": {
    "collapsed": false,
    "ExecuteTime": {
     "end_time": "2024-02-21T13:35:09.787579Z",
     "start_time": "2024-02-21T13:35:09.748851Z"
    }
   },
   "id": "eb52003845195636",
   "execution_count": 77
  },
  {
   "cell_type": "code",
   "outputs": [],
   "source": [
    "from MSET import MSET\n",
    "from tsad.evaluating.evaluating import evaluating\n",
    "import numpy as np\n",
    "import math\n",
    "from sklearn.metrics import f1_score, fbeta_score"
   ],
   "metadata": {
    "collapsed": false,
    "ExecuteTime": {
     "end_time": "2024-02-21T13:35:11.152345Z",
     "start_time": "2024-02-21T13:35:11.115162Z"
    }
   },
   "id": "c9c9dde0eda05d02",
   "execution_count": 78
  },
  {
   "cell_type": "markdown",
   "source": [
    "# Load Data"
   ],
   "metadata": {
    "collapsed": false
   },
   "id": "33aad8a839147553"
  },
  {
   "cell_type": "code",
   "outputs": [],
   "source": [
    "path_to_data = '../data/'"
   ],
   "metadata": {
    "collapsed": false,
    "ExecuteTime": {
     "end_time": "2024-02-21T13:35:13.445079Z",
     "start_time": "2024-02-21T13:35:13.346982Z"
    }
   },
   "id": "7cf67925032abca4",
   "execution_count": 79
  },
  {
   "cell_type": "code",
   "outputs": [],
   "source": [
    "all_files=[]\n",
    "import os\n",
    "for root, dirs, files in os.walk(path_to_data):\n",
    "    for file in files:\n",
    "        if file.endswith(\".csv\"):\n",
    "             all_files.append(os.path.join(root, file))"
   ],
   "metadata": {
    "collapsed": false,
    "ExecuteTime": {
     "end_time": "2024-02-21T13:35:14.647606Z",
     "start_time": "2024-02-21T13:35:14.611238Z"
    }
   },
   "id": "128ed5af706f7dbc",
   "execution_count": 80
  },
  {
   "cell_type": "code",
   "outputs": [],
   "source": [
    "# datasets with anomalies loading\n",
    "list_of_df = [pd.read_csv(file, \n",
    "                          sep=';', \n",
    "                          index_col='datetime', \n",
    "                          parse_dates=True) for file in all_files if 'anomaly-free' not in file]\n",
    "# anomaly-free df loading\n",
    "anomaly_free_df = pd.read_csv([file for file in all_files if 'anomaly-free' in file][0], \n",
    "                            sep=';', \n",
    "                            index_col='datetime', \n",
    "                            parse_dates=True)"
   ],
   "metadata": {
    "collapsed": false,
    "ExecuteTime": {
     "end_time": "2024-02-21T13:35:15.461649Z",
     "start_time": "2024-02-21T13:35:15.323764Z"
    }
   },
   "id": "ab90fc9bc90389a3",
   "execution_count": 81
  },
  {
   "cell_type": "code",
   "outputs": [
    {
     "name": "stdout",
     "output_type": "stream",
     "text": [
      "SKAB v0.9\n",
      "- A number of datasets: 34\n",
      "- Shape of the random dataset: (1146, 10)\n",
      "- A number of changepoints: 129\n",
      "- A number of outliers (point anomalies): 13067\n",
      "\n",
      "Head of the random dataset:\n"
     ]
    },
    {
     "data": {
      "text/plain": "                     Accelerometer1RMS  Accelerometer2RMS  Current  Pressure  \\\ndatetime                                                                       \n2020-03-09 12:14:36           0.027429           0.040353  0.77031  0.382638   \n\n                     Temperature  Thermocouple  Voltage  Volume Flow RateRMS  \\\ndatetime                                                                       \n2020-03-09 12:14:36      71.2129       25.0827  219.789                 32.0   \n\n                     anomaly  changepoint  \ndatetime                                   \n2020-03-09 12:14:36      0.0          0.0  ",
      "text/html": "<div>\n<style scoped>\n    .dataframe tbody tr th:only-of-type {\n        vertical-align: middle;\n    }\n\n    .dataframe tbody tr th {\n        vertical-align: top;\n    }\n\n    .dataframe thead th {\n        text-align: right;\n    }\n</style>\n<table border=\"1\" class=\"dataframe\">\n  <thead>\n    <tr style=\"text-align: right;\">\n      <th></th>\n      <th>Accelerometer1RMS</th>\n      <th>Accelerometer2RMS</th>\n      <th>Current</th>\n      <th>Pressure</th>\n      <th>Temperature</th>\n      <th>Thermocouple</th>\n      <th>Voltage</th>\n      <th>Volume Flow RateRMS</th>\n      <th>anomaly</th>\n      <th>changepoint</th>\n    </tr>\n    <tr>\n      <th>datetime</th>\n      <th></th>\n      <th></th>\n      <th></th>\n      <th></th>\n      <th></th>\n      <th></th>\n      <th></th>\n      <th></th>\n      <th></th>\n      <th></th>\n    </tr>\n  </thead>\n  <tbody>\n    <tr>\n      <th>2020-03-09 12:14:36</th>\n      <td>0.027429</td>\n      <td>0.040353</td>\n      <td>0.77031</td>\n      <td>0.382638</td>\n      <td>71.2129</td>\n      <td>25.0827</td>\n      <td>219.789</td>\n      <td>32.0</td>\n      <td>0.0</td>\n      <td>0.0</td>\n    </tr>\n  </tbody>\n</table>\n</div>"
     },
     "metadata": {},
     "output_type": "display_data"
    }
   ],
   "source": [
    "# dataset characteristics printing\n",
    "print('SKAB v0.9')\n",
    "print(f'- A number of datasets: {len(list_of_df)}')\n",
    "print(f'- Shape of the random dataset: {list_of_df[10].shape}')\n",
    "n_cp = sum([len(df[df.changepoint==1.]) for df in list_of_df])\n",
    "n_outlier = sum([len(df[df.anomaly==1.]) for df in list_of_df])\n",
    "print(f'- A number of changepoints: {n_cp}')\n",
    "print(f'- A number of outliers (point anomalies): {n_outlier}\\n')\n",
    "print(f'Head of the random dataset:')\n",
    "display(list_of_df[0].head(1))"
   ],
   "metadata": {
    "collapsed": false,
    "ExecuteTime": {
     "end_time": "2024-02-21T13:35:16.567332Z",
     "start_time": "2024-02-21T13:35:16.504944Z"
    }
   },
   "id": "716e2787f67fd2f8",
   "execution_count": 82
  },
  {
   "cell_type": "markdown",
   "source": [
    "# Baseline pipeline"
   ],
   "metadata": {
    "collapsed": false
   },
   "id": "50e5e5ffd61cca2"
  },
  {
   "cell_type": "code",
   "outputs": [],
   "source": [
    "def movmean(array, window):\n",
    "\n",
    "    n = np.size(array)\n",
    "    xx = array.copy()\n",
    "    y = []\n",
    "    for i in range(0, window):\n",
    "        y.append(np.roll(xx.tolist() + [np.nan]*window, i))\n",
    "    y = np.nanmean(y, axis=0)\n",
    "    l = math.ceil(window/2)\n",
    "\n",
    "    return y[l-1:n+l-1]"
   ],
   "metadata": {
    "collapsed": false,
    "ExecuteTime": {
     "end_time": "2024-02-21T13:35:24.959090Z",
     "start_time": "2024-02-21T13:35:24.911943Z"
    }
   },
   "id": "42364a61bbc4fa5d",
   "execution_count": 83
  },
  {
   "cell_type": "code",
   "outputs": [],
   "source": [
    "predicted_outlier = []\n",
    "rel_errors = []"
   ],
   "metadata": {
    "collapsed": false,
    "ExecuteTime": {
     "end_time": "2024-02-22T06:37:26.987979Z",
     "start_time": "2024-02-22T06:37:26.932268Z"
    }
   },
   "id": "e47daa1bd15c5785",
   "execution_count": 108
  },
  {
   "cell_type": "code",
   "outputs": [],
   "source": [
    "predicted_outlier_improved = []\n",
    "rel_errors_improved = []"
   ],
   "metadata": {
    "collapsed": false,
    "ExecuteTime": {
     "end_time": "2024-02-21T13:35:29.700722Z",
     "start_time": "2024-02-21T13:35:29.665787Z"
    }
   },
   "id": "5e4b5b1f3f5424b3",
   "execution_count": 85
  },
  {
   "cell_type": "code",
   "outputs": [],
   "source": [
    "def mset_prediction_wrapper(X_array, improved=False):\n",
    "    \"\"\"\n",
    "    This function wraps around the MSET prediction logic to return binary anomaly predictions.\n",
    "    X_array is expected to be a 2D numpy array where each row is a sample.\n",
    "    \"\"\"\n",
    "    # Ensure the input is a DataFrame with the correct column names\n",
    "    if not improved:\n",
    "        X_df = pd.DataFrame(X_array, columns=list_of_df[1].drop(['anomaly','changepoint'], axis=1).columns)\n",
    "    else:\n",
    "        X_df = pd.DataFrame(X_array, columns=X_array.columns)\n",
    "    ms = MSET()\n",
    "    \n",
    "    ms.fit(X_df[:400]) \n",
    "    # Predict using MSET model\n",
    "    Y_pred = ms.predict(X_df)\n",
    "    \n",
    "    # Calculate errors and relative errors\n",
    "    err = np.linalg.norm(X_df.values - Y_pred.values, axis=1)\n",
    "    rel_err = movmean(err / np.linalg.norm(Y_pred.values, axis=1), window=60)\n",
    "    if improved:\n",
    "        rel_errors_improved.append(rel_err)\n",
    "    else:\n",
    "        rel_errors.append(rel_err)\n",
    "    \n",
    "    # Determine binary predictions based on the relative error threshold\n",
    "    predictions = (rel_err > 0.01).astype(int)\n",
    "    if improved:\n",
    "        predicted_outlier_improved.append(pd.DataFrame((rel_err > 0.01), X_df.index).fillna(0).any(axis=1).astype(int))\n",
    "    else:\n",
    "        predicted_outlier.append(pd.DataFrame((rel_err > 0.01), X_df.index).fillna(0).any(axis=1).astype(int))\n",
    "    \n",
    "    return predictions"
   ],
   "metadata": {
    "collapsed": false,
    "ExecuteTime": {
     "end_time": "2024-02-21T13:35:31.312819Z",
     "start_time": "2024-02-21T13:35:31.278310Z"
    }
   },
   "id": "ccf53f1eaac3b759",
   "execution_count": 86
  },
  {
   "cell_type": "markdown",
   "source": [
    "# Baseline training"
   ],
   "metadata": {
    "collapsed": false
   },
   "id": "34c98690f70d11cb"
  },
  {
   "cell_type": "code",
   "outputs": [],
   "source": [
    "for i in list_of_df:\n",
    "    mset_prediction_wrapper(i.drop(['anomaly','changepoint'], axis=1))"
   ],
   "metadata": {
    "collapsed": false,
    "ExecuteTime": {
     "end_time": "2024-02-22T06:39:18.805660Z",
     "start_time": "2024-02-22T06:37:34.454579Z"
    }
   },
   "id": "e6329804a1dbb1cc",
   "execution_count": 109
  },
  {
   "cell_type": "code",
   "outputs": [],
   "source": [
    "# true outlier indices selection\n",
    "true_outlier = [df.anomaly for df in list_of_df]"
   ],
   "metadata": {
    "collapsed": false,
    "ExecuteTime": {
     "end_time": "2024-02-22T06:36:03.287301Z",
     "start_time": "2024-02-22T06:36:03.247916Z"
    }
   },
   "id": "8bea599411bbb677",
   "execution_count": 104
  },
  {
   "cell_type": "code",
   "outputs": [],
   "source": [
    "full_true_outlier = pd.concat(true_outlier)"
   ],
   "metadata": {
    "collapsed": false,
    "ExecuteTime": {
     "end_time": "2024-02-22T06:39:34.474658Z",
     "start_time": "2024-02-22T06:39:34.440038Z"
    }
   },
   "id": "8099b2493596f0f9",
   "execution_count": 112
  },
  {
   "cell_type": "code",
   "outputs": [],
   "source": [
    "full_predicted_outlier = pd.concat(predicted_outlier)"
   ],
   "metadata": {
    "collapsed": false,
    "ExecuteTime": {
     "end_time": "2024-02-22T06:39:35.082025Z",
     "start_time": "2024-02-22T06:39:34.999403Z"
    }
   },
   "id": "a9a302506405f089",
   "execution_count": 113
  },
  {
   "cell_type": "code",
   "outputs": [],
   "source": [],
   "metadata": {
    "collapsed": false,
    "ExecuteTime": {
     "end_time": "2024-02-21T13:41:39.283217Z",
     "start_time": "2024-02-21T13:41:39.277707Z"
    }
   },
   "id": "6d345036c1a6158f",
   "execution_count": 90
  },
  {
   "cell_type": "code",
   "outputs": [
    {
     "name": "stdout",
     "output_type": "stream",
     "text": [
      "Since you not choose numenta_time and portion, then portion will be 0.1\n",
      "False Alarm Rate 17.93 %\n",
      "Missing Alarm Rate 16.08 %\n",
      "F1 metric 0.77\n"
     ]
    }
   ],
   "source": [
    "# binary classification metrics calculation\n",
    "binary = evaluating(\n",
    "    true_outlier, \n",
    "    predicted_outlier, \n",
    "    metric='binary'\n",
    ")"
   ],
   "metadata": {
    "collapsed": false,
    "ExecuteTime": {
     "end_time": "2024-02-22T06:39:27.648584Z",
     "start_time": "2024-02-22T06:39:27.456716Z"
    }
   },
   "id": "479db3157f31ccfb",
   "execution_count": 110
  },
  {
   "cell_type": "code",
   "outputs": [
    {
     "data": {
      "text/plain": "0.8111186721500636"
     },
     "execution_count": 114,
     "metadata": {},
     "output_type": "execute_result"
    }
   ],
   "source": [
    "fbeta_score(full_true_outlier.values, full_predicted_outlier.values, beta=2)"
   ],
   "metadata": {
    "collapsed": false,
    "ExecuteTime": {
     "end_time": "2024-02-22T06:39:36.787050Z",
     "start_time": "2024-02-22T06:39:36.735392Z"
    }
   },
   "id": "2a2ab70faed62117",
   "execution_count": 114
  },
  {
   "cell_type": "markdown",
   "source": [
    "# Improvement"
   ],
   "metadata": {
    "collapsed": false
   },
   "id": "3b396a19dcac3fc1"
  },
  {
   "cell_type": "code",
   "outputs": [],
   "source": [
    "from transformers.shap_feature_selector import SHAPFeatureSelector"
   ],
   "metadata": {
    "collapsed": false,
    "ExecuteTime": {
     "end_time": "2024-02-21T13:42:03.228576Z",
     "start_time": "2024-02-21T13:42:03.160279Z"
    }
   },
   "id": "99c13c927100e911",
   "execution_count": 93
  },
  {
   "cell_type": "code",
   "outputs": [],
   "source": [
    "shap_feature_selector_f_beta = SHAPFeatureSelector(importance=0.85, estimator=mset_prediction_wrapper, beta=2)"
   ],
   "metadata": {
    "collapsed": false,
    "ExecuteTime": {
     "end_time": "2024-02-21T13:42:07.478002Z",
     "start_time": "2024-02-21T13:42:07.439580Z"
    }
   },
   "id": "c79fccaffd52b50a",
   "execution_count": 94
  },
  {
   "cell_type": "code",
   "outputs": [
    {
     "data": {
      "text/plain": "  0%|          | 0/200 [00:00<?, ?it/s]",
      "application/vnd.jupyter.widget-view+json": {
       "version_major": 2,
       "version_minor": 0,
       "model_id": "5b961c6320c041fdb4fcc7c73c81ae92"
      }
     },
     "metadata": {},
     "output_type": "display_data"
    },
    {
     "data": {
      "text/plain": "  0%|          | 0/200 [00:00<?, ?it/s]",
      "application/vnd.jupyter.widget-view+json": {
       "version_major": 2,
       "version_minor": 0,
       "model_id": "c133a5330adc44519878670de548d115"
      }
     },
     "metadata": {},
     "output_type": "display_data"
    },
    {
     "data": {
      "text/plain": "  0%|          | 0/200 [00:00<?, ?it/s]",
      "application/vnd.jupyter.widget-view+json": {
       "version_major": 2,
       "version_minor": 0,
       "model_id": "4161c6fece5f4082a9626580fe01d330"
      }
     },
     "metadata": {},
     "output_type": "display_data"
    },
    {
     "data": {
      "text/plain": "  0%|          | 0/200 [00:00<?, ?it/s]",
      "application/vnd.jupyter.widget-view+json": {
       "version_major": 2,
       "version_minor": 0,
       "model_id": "749252f5c2754f11998bd0e10434c556"
      }
     },
     "metadata": {},
     "output_type": "display_data"
    },
    {
     "data": {
      "text/plain": "  0%|          | 0/200 [00:00<?, ?it/s]",
      "application/vnd.jupyter.widget-view+json": {
       "version_major": 2,
       "version_minor": 0,
       "model_id": "52ce68d28e8c4bd08fdf0545acd98cf4"
      }
     },
     "metadata": {},
     "output_type": "display_data"
    },
    {
     "data": {
      "text/plain": "  0%|          | 0/200 [00:00<?, ?it/s]",
      "application/vnd.jupyter.widget-view+json": {
       "version_major": 2,
       "version_minor": 0,
       "model_id": "77a421f521df409cb01a0ad892cde064"
      }
     },
     "metadata": {},
     "output_type": "display_data"
    },
    {
     "data": {
      "text/plain": "  0%|          | 0/200 [00:00<?, ?it/s]",
      "application/vnd.jupyter.widget-view+json": {
       "version_major": 2,
       "version_minor": 0,
       "model_id": "d961b3764366492b8cb41bc8780aa71c"
      }
     },
     "metadata": {},
     "output_type": "display_data"
    },
    {
     "data": {
      "text/plain": "  0%|          | 0/200 [00:00<?, ?it/s]",
      "application/vnd.jupyter.widget-view+json": {
       "version_major": 2,
       "version_minor": 0,
       "model_id": "22442018cea34c0e97cc9ca4e82f41ab"
      }
     },
     "metadata": {},
     "output_type": "display_data"
    },
    {
     "data": {
      "text/plain": "  0%|          | 0/200 [00:00<?, ?it/s]",
      "application/vnd.jupyter.widget-view+json": {
       "version_major": 2,
       "version_minor": 0,
       "model_id": "a663d7a7e34d43b7906b331e5caec9a6"
      }
     },
     "metadata": {},
     "output_type": "display_data"
    },
    {
     "data": {
      "text/plain": "  0%|          | 0/200 [00:00<?, ?it/s]",
      "application/vnd.jupyter.widget-view+json": {
       "version_major": 2,
       "version_minor": 0,
       "model_id": "71b9fd6dbf90473296bd84aa3abd637d"
      }
     },
     "metadata": {},
     "output_type": "display_data"
    },
    {
     "data": {
      "text/plain": "  0%|          | 0/200 [00:00<?, ?it/s]",
      "application/vnd.jupyter.widget-view+json": {
       "version_major": 2,
       "version_minor": 0,
       "model_id": "2b41e6331d0c43cf959ab1f01b2d96e3"
      }
     },
     "metadata": {},
     "output_type": "display_data"
    },
    {
     "data": {
      "text/plain": "  0%|          | 0/200 [00:00<?, ?it/s]",
      "application/vnd.jupyter.widget-view+json": {
       "version_major": 2,
       "version_minor": 0,
       "model_id": "7d9468d00467484f89ce4e371ac600a8"
      }
     },
     "metadata": {},
     "output_type": "display_data"
    },
    {
     "data": {
      "text/plain": "  0%|          | 0/200 [00:00<?, ?it/s]",
      "application/vnd.jupyter.widget-view+json": {
       "version_major": 2,
       "version_minor": 0,
       "model_id": "460464bb927342c395efbc55a3b00b01"
      }
     },
     "metadata": {},
     "output_type": "display_data"
    },
    {
     "data": {
      "text/plain": "  0%|          | 0/200 [00:00<?, ?it/s]",
      "application/vnd.jupyter.widget-view+json": {
       "version_major": 2,
       "version_minor": 0,
       "model_id": "7f222359a2bd48808f4b68b687736a46"
      }
     },
     "metadata": {},
     "output_type": "display_data"
    },
    {
     "data": {
      "text/plain": "  0%|          | 0/200 [00:00<?, ?it/s]",
      "application/vnd.jupyter.widget-view+json": {
       "version_major": 2,
       "version_minor": 0,
       "model_id": "67a449bd1fa54cc093aa1a7864c5bc8a"
      }
     },
     "metadata": {},
     "output_type": "display_data"
    },
    {
     "data": {
      "text/plain": "  0%|          | 0/200 [00:00<?, ?it/s]",
      "application/vnd.jupyter.widget-view+json": {
       "version_major": 2,
       "version_minor": 0,
       "model_id": "45cfc7d865e34ef485dd684f92220f49"
      }
     },
     "metadata": {},
     "output_type": "display_data"
    },
    {
     "data": {
      "text/plain": "  0%|          | 0/200 [00:00<?, ?it/s]",
      "application/vnd.jupyter.widget-view+json": {
       "version_major": 2,
       "version_minor": 0,
       "model_id": "db0c07196a1e4e5baabb44a3754898e2"
      }
     },
     "metadata": {},
     "output_type": "display_data"
    },
    {
     "data": {
      "text/plain": "  0%|          | 0/200 [00:00<?, ?it/s]",
      "application/vnd.jupyter.widget-view+json": {
       "version_major": 2,
       "version_minor": 0,
       "model_id": "c2f97ef41d1041c0a36342d3ba5c1949"
      }
     },
     "metadata": {},
     "output_type": "display_data"
    },
    {
     "data": {
      "text/plain": "  0%|          | 0/200 [00:00<?, ?it/s]",
      "application/vnd.jupyter.widget-view+json": {
       "version_major": 2,
       "version_minor": 0,
       "model_id": "e00519ea69a343c79249fe348871031b"
      }
     },
     "metadata": {},
     "output_type": "display_data"
    },
    {
     "data": {
      "text/plain": "  0%|          | 0/200 [00:00<?, ?it/s]",
      "application/vnd.jupyter.widget-view+json": {
       "version_major": 2,
       "version_minor": 0,
       "model_id": "8d3d75b8cd17447db6f7e2e85cb28217"
      }
     },
     "metadata": {},
     "output_type": "display_data"
    },
    {
     "data": {
      "text/plain": "  0%|          | 0/200 [00:00<?, ?it/s]",
      "application/vnd.jupyter.widget-view+json": {
       "version_major": 2,
       "version_minor": 0,
       "model_id": "7e5e321e238b4bfb864c48510e65ab32"
      }
     },
     "metadata": {},
     "output_type": "display_data"
    },
    {
     "data": {
      "text/plain": "  0%|          | 0/200 [00:00<?, ?it/s]",
      "application/vnd.jupyter.widget-view+json": {
       "version_major": 2,
       "version_minor": 0,
       "model_id": "deac1f567a414dac99c18a533c0737b0"
      }
     },
     "metadata": {},
     "output_type": "display_data"
    },
    {
     "data": {
      "text/plain": "  0%|          | 0/200 [00:00<?, ?it/s]",
      "application/vnd.jupyter.widget-view+json": {
       "version_major": 2,
       "version_minor": 0,
       "model_id": "2c46149b50fa4865af5a2fc1dd8caee7"
      }
     },
     "metadata": {},
     "output_type": "display_data"
    },
    {
     "data": {
      "text/plain": "  0%|          | 0/200 [00:00<?, ?it/s]",
      "application/vnd.jupyter.widget-view+json": {
       "version_major": 2,
       "version_minor": 0,
       "model_id": "5d151ab39daa4b70a725743387a5bbde"
      }
     },
     "metadata": {},
     "output_type": "display_data"
    },
    {
     "data": {
      "text/plain": "  0%|          | 0/200 [00:00<?, ?it/s]",
      "application/vnd.jupyter.widget-view+json": {
       "version_major": 2,
       "version_minor": 0,
       "model_id": "3fcdeefa280e48dbbf03807976dd4b7f"
      }
     },
     "metadata": {},
     "output_type": "display_data"
    },
    {
     "data": {
      "text/plain": "  0%|          | 0/200 [00:00<?, ?it/s]",
      "application/vnd.jupyter.widget-view+json": {
       "version_major": 2,
       "version_minor": 0,
       "model_id": "6cd343bb30aa4a1bbebb315f40dcb827"
      }
     },
     "metadata": {},
     "output_type": "display_data"
    },
    {
     "data": {
      "text/plain": "  0%|          | 0/200 [00:00<?, ?it/s]",
      "application/vnd.jupyter.widget-view+json": {
       "version_major": 2,
       "version_minor": 0,
       "model_id": "693fafd5c3354b4ea7ef71981bc69f21"
      }
     },
     "metadata": {},
     "output_type": "display_data"
    },
    {
     "data": {
      "text/plain": "  0%|          | 0/200 [00:00<?, ?it/s]",
      "application/vnd.jupyter.widget-view+json": {
       "version_major": 2,
       "version_minor": 0,
       "model_id": "3ebe04d0172f4c7298e2669c02ca667f"
      }
     },
     "metadata": {},
     "output_type": "display_data"
    },
    {
     "data": {
      "text/plain": "  0%|          | 0/200 [00:00<?, ?it/s]",
      "application/vnd.jupyter.widget-view+json": {
       "version_major": 2,
       "version_minor": 0,
       "model_id": "55bc041643ac4c6fbad5d576c5a42bd0"
      }
     },
     "metadata": {},
     "output_type": "display_data"
    },
    {
     "data": {
      "text/plain": "  0%|          | 0/200 [00:00<?, ?it/s]",
      "application/vnd.jupyter.widget-view+json": {
       "version_major": 2,
       "version_minor": 0,
       "model_id": "49da629135cd48658ac6a610a96b2329"
      }
     },
     "metadata": {},
     "output_type": "display_data"
    },
    {
     "data": {
      "text/plain": "  0%|          | 0/200 [00:00<?, ?it/s]",
      "application/vnd.jupyter.widget-view+json": {
       "version_major": 2,
       "version_minor": 0,
       "model_id": "03f7d2e11cbd44a79420c8020f5c8441"
      }
     },
     "metadata": {},
     "output_type": "display_data"
    },
    {
     "data": {
      "text/plain": "  0%|          | 0/200 [00:00<?, ?it/s]",
      "application/vnd.jupyter.widget-view+json": {
       "version_major": 2,
       "version_minor": 0,
       "model_id": "a33ad7f16d9040c68c6930cce69d4d93"
      }
     },
     "metadata": {},
     "output_type": "display_data"
    },
    {
     "data": {
      "text/plain": "  0%|          | 0/200 [00:00<?, ?it/s]",
      "application/vnd.jupyter.widget-view+json": {
       "version_major": 2,
       "version_minor": 0,
       "model_id": "f0c1ee247492495d8d3fed0b0bbd05c8"
      }
     },
     "metadata": {},
     "output_type": "display_data"
    },
    {
     "data": {
      "text/plain": "  0%|          | 0/200 [00:00<?, ?it/s]",
      "application/vnd.jupyter.widget-view+json": {
       "version_major": 2,
       "version_minor": 0,
       "model_id": "1537bdc9f9b14fbdaa6566fde39c193e"
      }
     },
     "metadata": {},
     "output_type": "display_data"
    }
   ],
   "source": [
    "for i in list_of_df:\n",
    "    train_x, train_y = i.drop(['anomaly','changepoint'], axis=1), i['anomaly']\n",
    "    train_x_imp_beta = shap_feature_selector_f_beta.fit_transform(train_x, train_y.values)\n",
    "    mset_prediction_wrapper(train_x_imp_beta, improved=True)"
   ],
   "metadata": {
    "collapsed": false,
    "ExecuteTime": {
     "end_time": "2024-02-21T19:34:30.569017Z",
     "start_time": "2024-02-21T13:42:23.774378Z"
    }
   },
   "id": "51952b526a483e27",
   "execution_count": 95
  },
  {
   "cell_type": "code",
   "outputs": [],
   "source": [
    "full_predicted_outlier_improved = pd.concat(predicted_outlier_improved)"
   ],
   "metadata": {
    "collapsed": false,
    "ExecuteTime": {
     "end_time": "2024-02-21T19:34:40.769741Z",
     "start_time": "2024-02-21T19:34:40.693176Z"
    }
   },
   "id": "4328e532699fe78d",
   "execution_count": 96
  },
  {
   "cell_type": "code",
   "outputs": [],
   "source": [],
   "metadata": {
    "collapsed": false,
    "ExecuteTime": {
     "end_time": "2024-02-21T19:34:42.808377Z",
     "start_time": "2024-02-21T19:34:42.801101Z"
    }
   },
   "id": "39207ede37901987",
   "execution_count": 96
  },
  {
   "cell_type": "markdown",
   "source": [
    "# Improved pipeline results"
   ],
   "metadata": {
    "collapsed": false
   },
   "id": "93d06fe5a02bd963"
  },
  {
   "cell_type": "code",
   "outputs": [
    {
     "name": "stdout",
     "output_type": "stream",
     "text": [
      "Since you not choose numenta_time and portion, then portion will be 0.1\n",
      "False Alarm Rate 14.8 %\n",
      "Missing Alarm Rate 24.7 %\n",
      "F1 metric 0.74\n"
     ]
    }
   ],
   "source": [
    "# binary classification metrics calculation\n",
    "binary = evaluating(\n",
    "    true_outlier, \n",
    "    predicted_outlier_improved, \n",
    "    metric='binary'\n",
    ")"
   ],
   "metadata": {
    "collapsed": false,
    "ExecuteTime": {
     "end_time": "2024-02-21T19:34:46.640021Z",
     "start_time": "2024-02-21T19:34:46.350334Z"
    }
   },
   "id": "74012b7f25140e1d",
   "execution_count": 97
  },
  {
   "cell_type": "code",
   "outputs": [
    {
     "data": {
      "text/plain": "0.748691179156267"
     },
     "execution_count": 98,
     "metadata": {},
     "output_type": "execute_result"
    }
   ],
   "source": [
    "fbeta_score(full_true_outlier.values, full_predicted_outlier_improved.values, beta=2)"
   ],
   "metadata": {
    "collapsed": false,
    "ExecuteTime": {
     "end_time": "2024-02-21T19:34:55.462306Z",
     "start_time": "2024-02-21T19:34:55.411687Z"
    }
   },
   "id": "f3dfd3e22ef59aa6",
   "execution_count": 98
  },
  {
   "cell_type": "markdown",
   "source": [
    "# Baseline pipeline results"
   ],
   "metadata": {
    "collapsed": false
   },
   "id": "b345789a973670fe"
  },
  {
   "cell_type": "code",
   "outputs": [
    {
     "name": "stdout",
     "output_type": "stream",
     "text": [
      "Since you not choose numenta_time and portion, then portion will be 0.1\n",
      "False Alarm Rate 17.93 %\n",
      "Missing Alarm Rate 16.08 %\n",
      "F1 metric 0.77\n"
     ]
    }
   ],
   "source": [
    "# binary classification metrics calculation\n",
    "binary = evaluating(\n",
    "    true_outlier, \n",
    "    predicted_outlier, \n",
    "    metric='binary'\n",
    ")"
   ],
   "metadata": {
    "collapsed": false,
    "ExecuteTime": {
     "end_time": "2024-02-22T06:39:41.067565Z",
     "start_time": "2024-02-22T06:39:40.966526Z"
    }
   },
   "id": "20536aca13c8a85a",
   "execution_count": 115
  },
  {
   "cell_type": "code",
   "outputs": [
    {
     "data": {
      "text/plain": "0.8111186721500636"
     },
     "execution_count": 116,
     "metadata": {},
     "output_type": "execute_result"
    }
   ],
   "source": [
    "fbeta_score(full_true_outlier.values, full_predicted_outlier.values, beta=2)"
   ],
   "metadata": {
    "collapsed": false,
    "ExecuteTime": {
     "end_time": "2024-02-22T06:39:42.843025Z",
     "start_time": "2024-02-22T06:39:42.795069Z"
    }
   },
   "id": "8943e12a32978fa1",
   "execution_count": 116
  },
  {
   "cell_type": "code",
   "outputs": [],
   "source": [],
   "metadata": {
    "collapsed": false
   },
   "id": "a7677199051e940f"
  }
 ],
 "metadata": {
  "kernelspec": {
   "display_name": "Python 3",
   "language": "python",
   "name": "python3"
  },
  "language_info": {
   "codemirror_mode": {
    "name": "ipython",
    "version": 2
   },
   "file_extension": ".py",
   "mimetype": "text/x-python",
   "name": "python",
   "nbconvert_exporter": "python",
   "pygments_lexer": "ipython2",
   "version": "2.7.6"
  }
 },
 "nbformat": 4,
 "nbformat_minor": 5
}

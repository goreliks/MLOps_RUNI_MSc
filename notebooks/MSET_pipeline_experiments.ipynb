{
 "cells": [
  {
   "cell_type": "markdown",
   "id": "89a6e5dfece210c8",
   "metadata": {
    "collapsed": false,
    "jupyter": {
     "outputs_hidden": false
    }
   },
   "source": [
    "# Imports"
   ]
  },
  {
   "cell_type": "code",
   "execution_count": 1,
   "id": "df6dd6a75474552c",
   "metadata": {
    "ExecuteTime": {
     "end_time": "2024-02-21T13:35:09.237045Z",
     "start_time": "2024-02-21T13:35:09.132305Z"
    },
    "collapsed": false,
    "jupyter": {
     "outputs_hidden": false
    }
   },
   "outputs": [],
   "source": [
    "# libraries importing\n",
    "import pandas as pd\n",
    "import matplotlib.pyplot as plt\n",
    "%matplotlib inline\n",
    "\n",
    "# additional modules\n",
    "import sys\n",
    "sys.path.append('../algorithms')\n",
    "\n",
    "import warnings\n",
    "warnings.filterwarnings(\"ignore\", category=UserWarning)\n",
    "warnings.filterwarnings(\"ignore\", category=RuntimeWarning)"
   ]
  },
  {
   "cell_type": "code",
   "execution_count": 2,
   "id": "eb52003845195636",
   "metadata": {
    "ExecuteTime": {
     "end_time": "2024-02-21T13:35:09.787579Z",
     "start_time": "2024-02-21T13:35:09.748851Z"
    },
    "collapsed": false,
    "jupyter": {
     "outputs_hidden": false
    }
   },
   "outputs": [],
   "source": [
    "%load_ext autoreload\n",
    "%autoreload 2"
   ]
  },
  {
   "cell_type": "code",
   "execution_count": 3,
   "id": "c9c9dde0eda05d02",
   "metadata": {
    "ExecuteTime": {
     "end_time": "2024-02-21T13:35:11.152345Z",
     "start_time": "2024-02-21T13:35:11.115162Z"
    },
    "collapsed": false,
    "jupyter": {
     "outputs_hidden": false
    }
   },
   "outputs": [],
   "source": [
    "from MSET import MSET\n",
    "from tsad.evaluating.evaluating import evaluating\n",
    "import numpy as np\n",
    "import math\n",
    "from sklearn.metrics import f1_score, fbeta_score"
   ]
  },
  {
   "cell_type": "markdown",
   "id": "33aad8a839147553",
   "metadata": {
    "collapsed": false,
    "jupyter": {
     "outputs_hidden": false
    }
   },
   "source": [
    "# Load Data"
   ]
  },
  {
   "cell_type": "code",
   "execution_count": 4,
   "id": "7cf67925032abca4",
   "metadata": {
    "ExecuteTime": {
     "end_time": "2024-02-21T13:35:13.445079Z",
     "start_time": "2024-02-21T13:35:13.346982Z"
    },
    "collapsed": false,
    "jupyter": {
     "outputs_hidden": false
    }
   },
   "outputs": [],
   "source": [
    "path_to_data = '../data/'"
   ]
  },
  {
   "cell_type": "code",
   "execution_count": 5,
   "id": "c260f3d3-a563-4c1c-9855-b3e5d2fde482",
   "metadata": {},
   "outputs": [],
   "source": [
    "import sys\n",
    "import os\n",
    "\n",
    "module_path = os.path.abspath(os.path.join('..'))\n",
    "if module_path not in sys.path:\n",
    "    sys.path.append(module_path)"
   ]
  },
  {
   "cell_type": "code",
   "execution_count": 6,
   "id": "128ed5af706f7dbc",
   "metadata": {
    "ExecuteTime": {
     "end_time": "2024-02-21T13:35:14.647606Z",
     "start_time": "2024-02-21T13:35:14.611238Z"
    },
    "collapsed": false,
    "jupyter": {
     "outputs_hidden": false
    }
   },
   "outputs": [],
   "source": [
    "all_files=[]\n",
    "import os\n",
    "for root, dirs, files in os.walk(path_to_data):\n",
    "    for file in files:\n",
    "        if file.endswith(\".csv\"):\n",
    "             all_files.append(os.path.join(root, file))"
   ]
  },
  {
   "cell_type": "code",
   "execution_count": 7,
   "id": "ab90fc9bc90389a3",
   "metadata": {
    "ExecuteTime": {
     "end_time": "2024-02-21T13:35:15.461649Z",
     "start_time": "2024-02-21T13:35:15.323764Z"
    },
    "collapsed": false,
    "jupyter": {
     "outputs_hidden": false
    }
   },
   "outputs": [],
   "source": [
    "# datasets with anomalies loading\n",
    "list_of_df = [pd.read_csv(file, \n",
    "                          sep=';', \n",
    "                          index_col='datetime', \n",
    "                          parse_dates=True) for file in all_files if 'anomaly-free' not in file]\n",
    "# anomaly-free df loading\n",
    "anomaly_free_df = pd.read_csv([file for file in all_files if 'anomaly-free' in file][0], \n",
    "                            sep=';', \n",
    "                            index_col='datetime', \n",
    "                            parse_dates=True)"
   ]
  },
  {
   "cell_type": "code",
   "execution_count": 8,
   "id": "716e2787f67fd2f8",
   "metadata": {
    "ExecuteTime": {
     "end_time": "2024-02-21T13:35:16.567332Z",
     "start_time": "2024-02-21T13:35:16.504944Z"
    },
    "collapsed": false,
    "jupyter": {
     "outputs_hidden": false
    }
   },
   "outputs": [
    {
     "name": "stdout",
     "output_type": "stream",
     "text": [
      "SKAB v0.9\n",
      "- A number of datasets: 34\n",
      "- Shape of the random dataset: (1146, 10)\n",
      "- A number of changepoints: 129\n",
      "- A number of outliers (point anomalies): 13067\n",
      "\n",
      "Head of the random dataset:\n"
     ]
    },
    {
     "data": {
      "text/html": [
       "<div>\n",
       "<style scoped>\n",
       "    .dataframe tbody tr th:only-of-type {\n",
       "        vertical-align: middle;\n",
       "    }\n",
       "\n",
       "    .dataframe tbody tr th {\n",
       "        vertical-align: top;\n",
       "    }\n",
       "\n",
       "    .dataframe thead th {\n",
       "        text-align: right;\n",
       "    }\n",
       "</style>\n",
       "<table border=\"1\" class=\"dataframe\">\n",
       "  <thead>\n",
       "    <tr style=\"text-align: right;\">\n",
       "      <th></th>\n",
       "      <th>Accelerometer1RMS</th>\n",
       "      <th>Accelerometer2RMS</th>\n",
       "      <th>Current</th>\n",
       "      <th>Pressure</th>\n",
       "      <th>Temperature</th>\n",
       "      <th>Thermocouple</th>\n",
       "      <th>Voltage</th>\n",
       "      <th>Volume Flow RateRMS</th>\n",
       "      <th>anomaly</th>\n",
       "      <th>changepoint</th>\n",
       "    </tr>\n",
       "    <tr>\n",
       "      <th>datetime</th>\n",
       "      <th></th>\n",
       "      <th></th>\n",
       "      <th></th>\n",
       "      <th></th>\n",
       "      <th></th>\n",
       "      <th></th>\n",
       "      <th></th>\n",
       "      <th></th>\n",
       "      <th></th>\n",
       "      <th></th>\n",
       "    </tr>\n",
       "  </thead>\n",
       "  <tbody>\n",
       "    <tr>\n",
       "      <th>2020-03-09 12:14:36</th>\n",
       "      <td>0.027429</td>\n",
       "      <td>0.040353</td>\n",
       "      <td>0.77031</td>\n",
       "      <td>0.382638</td>\n",
       "      <td>71.2129</td>\n",
       "      <td>25.0827</td>\n",
       "      <td>219.789</td>\n",
       "      <td>32.0</td>\n",
       "      <td>0.0</td>\n",
       "      <td>0.0</td>\n",
       "    </tr>\n",
       "  </tbody>\n",
       "</table>\n",
       "</div>"
      ],
      "text/plain": [
       "                     Accelerometer1RMS  Accelerometer2RMS  Current  Pressure  \\\n",
       "datetime                                                                       \n",
       "2020-03-09 12:14:36           0.027429           0.040353  0.77031  0.382638   \n",
       "\n",
       "                     Temperature  Thermocouple  Voltage  Volume Flow RateRMS  \\\n",
       "datetime                                                                       \n",
       "2020-03-09 12:14:36      71.2129       25.0827  219.789                 32.0   \n",
       "\n",
       "                     anomaly  changepoint  \n",
       "datetime                                   \n",
       "2020-03-09 12:14:36      0.0          0.0  "
      ]
     },
     "metadata": {},
     "output_type": "display_data"
    }
   ],
   "source": [
    "# dataset characteristics printing\n",
    "print('SKAB v0.9')\n",
    "print(f'- A number of datasets: {len(list_of_df)}')\n",
    "print(f'- Shape of the random dataset: {list_of_df[10].shape}')\n",
    "n_cp = sum([len(df[df.changepoint==1.]) for df in list_of_df])\n",
    "n_outlier = sum([len(df[df.anomaly==1.]) for df in list_of_df])\n",
    "print(f'- A number of changepoints: {n_cp}')\n",
    "print(f'- A number of outliers (point anomalies): {n_outlier}\\n')\n",
    "print(f'Head of the random dataset:')\n",
    "display(list_of_df[0].head(1))"
   ]
  },
  {
   "cell_type": "markdown",
   "id": "50e5e5ffd61cca2",
   "metadata": {
    "collapsed": false,
    "jupyter": {
     "outputs_hidden": false
    }
   },
   "source": [
    "# Baseline pipeline"
   ]
  },
  {
   "cell_type": "code",
   "execution_count": 9,
   "id": "42364a61bbc4fa5d",
   "metadata": {
    "ExecuteTime": {
     "end_time": "2024-02-21T13:35:24.959090Z",
     "start_time": "2024-02-21T13:35:24.911943Z"
    },
    "collapsed": false,
    "jupyter": {
     "outputs_hidden": false
    }
   },
   "outputs": [],
   "source": [
    "def movmean(array, window):\n",
    "\n",
    "    n = np.size(array)\n",
    "    xx = array.copy()\n",
    "    y = []\n",
    "    for i in range(0, window):\n",
    "        y.append(np.roll(xx.tolist() + [np.nan]*window, i))\n",
    "    y = np.nanmean(y, axis=0)\n",
    "    l = math.ceil(window/2)\n",
    "\n",
    "    return y[l-1:n+l-1]"
   ]
  },
  {
   "cell_type": "code",
   "execution_count": 10,
   "id": "e47daa1bd15c5785",
   "metadata": {
    "ExecuteTime": {
     "end_time": "2024-02-22T06:37:26.987979Z",
     "start_time": "2024-02-22T06:37:26.932268Z"
    },
    "collapsed": false,
    "jupyter": {
     "outputs_hidden": false
    }
   },
   "outputs": [],
   "source": [
    "predicted_outlier = []\n",
    "rel_errors = []"
   ]
  },
  {
   "cell_type": "code",
   "execution_count": 11,
   "id": "5e4b5b1f3f5424b3",
   "metadata": {
    "ExecuteTime": {
     "end_time": "2024-02-21T13:35:29.700722Z",
     "start_time": "2024-02-21T13:35:29.665787Z"
    },
    "collapsed": false,
    "jupyter": {
     "outputs_hidden": false
    }
   },
   "outputs": [],
   "source": [
    "predicted_outlier_improved = []\n",
    "rel_errors_improved = []"
   ]
  },
  {
   "cell_type": "code",
   "execution_count": 12,
   "id": "ccf53f1eaac3b759",
   "metadata": {
    "ExecuteTime": {
     "end_time": "2024-02-21T13:35:31.312819Z",
     "start_time": "2024-02-21T13:35:31.278310Z"
    },
    "collapsed": false,
    "jupyter": {
     "outputs_hidden": false
    }
   },
   "outputs": [],
   "source": [
    "def mset_prediction_wrapper(X_array, improved=False):\n",
    "    \"\"\"\n",
    "    This function wraps around the MSET prediction logic to return binary anomaly predictions.\n",
    "    X_array is expected to be a 2D numpy array where each row is a sample.\n",
    "    \"\"\"\n",
    "    # Ensure the input is a DataFrame with the correct column names\n",
    "    if not improved:\n",
    "        X_df = pd.DataFrame(X_array, columns=list_of_df[1].drop(['anomaly','changepoint'], axis=1).columns)\n",
    "    else:\n",
    "        X_df = pd.DataFrame(X_array, columns=X_array.columns)\n",
    "    ms = MSET()\n",
    "    \n",
    "    ms.fit(X_df[:400]) \n",
    "    # Predict using MSET model\n",
    "    Y_pred = ms.predict(X_df)\n",
    "    \n",
    "    # Calculate errors and relative errors\n",
    "    err = np.linalg.norm(X_df.values - Y_pred.values, axis=1)\n",
    "    rel_err = movmean(err / np.linalg.norm(Y_pred.values, axis=1), window=60)\n",
    "    if improved:\n",
    "        rel_errors_improved.append(rel_err)\n",
    "    else:\n",
    "        rel_errors.append(rel_err)\n",
    "    \n",
    "    # Determine binary predictions based on the relative error threshold\n",
    "    predictions = (rel_err > 0.01).astype(int)\n",
    "    if improved:\n",
    "        predicted_outlier_improved.append(pd.DataFrame((rel_err > 0.01), X_df.index).fillna(0).any(axis=1).astype(int))\n",
    "    else:\n",
    "        predicted_outlier.append(pd.DataFrame((rel_err > 0.01), X_df.index).fillna(0).any(axis=1).astype(int))\n",
    "    \n",
    "    return predictions"
   ]
  },
  {
   "cell_type": "markdown",
   "id": "34c98690f70d11cb",
   "metadata": {
    "collapsed": false,
    "jupyter": {
     "outputs_hidden": false
    }
   },
   "source": [
    "# Baseline training"
   ]
  },
  {
   "cell_type": "code",
   "execution_count": 13,
   "id": "e6329804a1dbb1cc",
   "metadata": {
    "ExecuteTime": {
     "end_time": "2024-02-22T06:39:18.805660Z",
     "start_time": "2024-02-22T06:37:34.454579Z"
    },
    "collapsed": false,
    "jupyter": {
     "outputs_hidden": false
    }
   },
   "outputs": [],
   "source": [
    "for i in list_of_df:\n",
    "    mset_prediction_wrapper(i.drop(['anomaly','changepoint'], axis=1))"
   ]
  },
  {
   "cell_type": "code",
   "execution_count": 14,
   "id": "8bea599411bbb677",
   "metadata": {
    "ExecuteTime": {
     "end_time": "2024-02-22T06:36:03.287301Z",
     "start_time": "2024-02-22T06:36:03.247916Z"
    },
    "collapsed": false,
    "jupyter": {
     "outputs_hidden": false
    }
   },
   "outputs": [],
   "source": [
    "# true outlier indices selection\n",
    "true_outlier = [df.anomaly for df in list_of_df]"
   ]
  },
  {
   "cell_type": "code",
   "execution_count": 15,
   "id": "8099b2493596f0f9",
   "metadata": {
    "ExecuteTime": {
     "end_time": "2024-02-22T06:39:34.474658Z",
     "start_time": "2024-02-22T06:39:34.440038Z"
    },
    "collapsed": false,
    "jupyter": {
     "outputs_hidden": false
    }
   },
   "outputs": [],
   "source": [
    "full_true_outlier = pd.concat(true_outlier)"
   ]
  },
  {
   "cell_type": "code",
   "execution_count": 16,
   "id": "a9a302506405f089",
   "metadata": {
    "ExecuteTime": {
     "end_time": "2024-02-22T06:39:35.082025Z",
     "start_time": "2024-02-22T06:39:34.999403Z"
    },
    "collapsed": false,
    "jupyter": {
     "outputs_hidden": false
    }
   },
   "outputs": [],
   "source": [
    "full_predicted_outlier = pd.concat(predicted_outlier)"
   ]
  },
  {
   "cell_type": "code",
   "execution_count": null,
   "id": "6d345036c1a6158f",
   "metadata": {
    "ExecuteTime": {
     "end_time": "2024-02-21T13:41:39.283217Z",
     "start_time": "2024-02-21T13:41:39.277707Z"
    },
    "collapsed": false,
    "jupyter": {
     "outputs_hidden": false
    }
   },
   "outputs": [],
   "source": []
  },
  {
   "cell_type": "code",
   "execution_count": 17,
   "id": "479db3157f31ccfb",
   "metadata": {
    "ExecuteTime": {
     "end_time": "2024-02-22T06:39:27.648584Z",
     "start_time": "2024-02-22T06:39:27.456716Z"
    },
    "collapsed": false,
    "jupyter": {
     "outputs_hidden": false
    }
   },
   "outputs": [
    {
     "name": "stdout",
     "output_type": "stream",
     "text": [
      "Since you not choose numenta_time and portion, then portion will be 0.1\n",
      "False Alarm Rate 17.93 %\n",
      "Missing Alarm Rate 16.08 %\n",
      "F1 metric 0.77\n"
     ]
    }
   ],
   "source": [
    "# binary classification metrics calculation\n",
    "binary = evaluating(\n",
    "    true_outlier, \n",
    "    predicted_outlier, \n",
    "    metric='binary'\n",
    ")"
   ]
  },
  {
   "cell_type": "code",
   "execution_count": 19,
   "id": "2a2ab70faed62117",
   "metadata": {
    "ExecuteTime": {
     "end_time": "2024-02-22T06:39:36.787050Z",
     "start_time": "2024-02-22T06:39:36.735392Z"
    },
    "collapsed": false,
    "jupyter": {
     "outputs_hidden": false
    }
   },
   "outputs": [
    {
     "data": {
      "text/plain": [
       "0.8111186721500636"
      ]
     },
     "execution_count": 19,
     "metadata": {},
     "output_type": "execute_result"
    }
   ],
   "source": [
    "fbeta_score(full_true_outlier.values, full_predicted_outlier.values, beta=2)"
   ]
  },
  {
   "cell_type": "markdown",
   "id": "3b396a19dcac3fc1",
   "metadata": {
    "collapsed": false,
    "jupyter": {
     "outputs_hidden": false
    }
   },
   "source": [
    "# Improvement"
   ]
  },
  {
   "cell_type": "code",
   "execution_count": 20,
   "id": "99c13c927100e911",
   "metadata": {
    "ExecuteTime": {
     "end_time": "2024-02-21T13:42:03.228576Z",
     "start_time": "2024-02-21T13:42:03.160279Z"
    },
    "collapsed": false,
    "jupyter": {
     "outputs_hidden": false
    }
   },
   "outputs": [],
   "source": [
    "from transformers.shap_feature_selector import SHAPFeatureSelector"
   ]
  },
  {
   "cell_type": "code",
   "execution_count": 21,
   "id": "c79fccaffd52b50a",
   "metadata": {
    "ExecuteTime": {
     "end_time": "2024-02-21T13:42:07.478002Z",
     "start_time": "2024-02-21T13:42:07.439580Z"
    },
    "collapsed": false,
    "jupyter": {
     "outputs_hidden": false
    }
   },
   "outputs": [],
   "source": [
    "shap_feature_selector_f_beta = SHAPFeatureSelector(importance=0.85, estimator=mset_prediction_wrapper, beta=2)"
   ]
  },
  {
   "cell_type": "code",
   "execution_count": 22,
   "id": "51952b526a483e27",
   "metadata": {
    "ExecuteTime": {
     "end_time": "2024-02-21T19:34:30.569017Z",
     "start_time": "2024-02-21T13:42:23.774378Z"
    },
    "collapsed": false,
    "jupyter": {
     "outputs_hidden": false
    }
   },
   "outputs": [
    {
     "data": {
      "application/vnd.jupyter.widget-view+json": {
       "model_id": "35e394ab384f404589dc61606b9a2316",
       "version_major": 2,
       "version_minor": 0
      },
      "text/plain": [
       "  0%|          | 0/100 [00:00<?, ?it/s]"
      ]
     },
     "metadata": {},
     "output_type": "display_data"
    },
    {
     "data": {
      "application/vnd.jupyter.widget-view+json": {
       "model_id": "3b7a23fe6a124e4ab8fb3c274159f1cd",
       "version_major": 2,
       "version_minor": 0
      },
      "text/plain": [
       "  0%|          | 0/100 [00:00<?, ?it/s]"
      ]
     },
     "metadata": {},
     "output_type": "display_data"
    },
    {
     "data": {
      "application/vnd.jupyter.widget-view+json": {
       "model_id": "e8e7f7badb554668bccb8058c381f2c3",
       "version_major": 2,
       "version_minor": 0
      },
      "text/plain": [
       "  0%|          | 0/100 [00:00<?, ?it/s]"
      ]
     },
     "metadata": {},
     "output_type": "display_data"
    },
    {
     "data": {
      "application/vnd.jupyter.widget-view+json": {
       "model_id": "d10fbcd95fc64f47bdbc503e0d763031",
       "version_major": 2,
       "version_minor": 0
      },
      "text/plain": [
       "  0%|          | 0/100 [00:00<?, ?it/s]"
      ]
     },
     "metadata": {},
     "output_type": "display_data"
    },
    {
     "data": {
      "application/vnd.jupyter.widget-view+json": {
       "model_id": "9f0e9edd9bbe4ee5a6db5e2794b362ed",
       "version_major": 2,
       "version_minor": 0
      },
      "text/plain": [
       "  0%|          | 0/100 [00:00<?, ?it/s]"
      ]
     },
     "metadata": {},
     "output_type": "display_data"
    },
    {
     "data": {
      "application/vnd.jupyter.widget-view+json": {
       "model_id": "0b050f0efaa34cbd84738eea09b1cd22",
       "version_major": 2,
       "version_minor": 0
      },
      "text/plain": [
       "  0%|          | 0/100 [00:00<?, ?it/s]"
      ]
     },
     "metadata": {},
     "output_type": "display_data"
    },
    {
     "data": {
      "application/vnd.jupyter.widget-view+json": {
       "model_id": "eee142372d054d3d9fbe6ed42304d653",
       "version_major": 2,
       "version_minor": 0
      },
      "text/plain": [
       "  0%|          | 0/100 [00:00<?, ?it/s]"
      ]
     },
     "metadata": {},
     "output_type": "display_data"
    },
    {
     "data": {
      "application/vnd.jupyter.widget-view+json": {
       "model_id": "6c36d9e35620462d8c84ff4c718687ab",
       "version_major": 2,
       "version_minor": 0
      },
      "text/plain": [
       "  0%|          | 0/100 [00:00<?, ?it/s]"
      ]
     },
     "metadata": {},
     "output_type": "display_data"
    },
    {
     "data": {
      "application/vnd.jupyter.widget-view+json": {
       "model_id": "f3fcb86b08bd4322a102ac2403d965e6",
       "version_major": 2,
       "version_minor": 0
      },
      "text/plain": [
       "  0%|          | 0/100 [00:00<?, ?it/s]"
      ]
     },
     "metadata": {},
     "output_type": "display_data"
    },
    {
     "data": {
      "application/vnd.jupyter.widget-view+json": {
       "model_id": "a2a1e0e72fc94d5780c93d0dae7fef57",
       "version_major": 2,
       "version_minor": 0
      },
      "text/plain": [
       "  0%|          | 0/100 [00:00<?, ?it/s]"
      ]
     },
     "metadata": {},
     "output_type": "display_data"
    },
    {
     "data": {
      "application/vnd.jupyter.widget-view+json": {
       "model_id": "77e2435a4abb4e7a891b248a3d795d43",
       "version_major": 2,
       "version_minor": 0
      },
      "text/plain": [
       "  0%|          | 0/100 [00:00<?, ?it/s]"
      ]
     },
     "metadata": {},
     "output_type": "display_data"
    },
    {
     "data": {
      "application/vnd.jupyter.widget-view+json": {
       "model_id": "fb5c4a7c04ad4ed59a50f9ba367dd1b2",
       "version_major": 2,
       "version_minor": 0
      },
      "text/plain": [
       "  0%|          | 0/100 [00:00<?, ?it/s]"
      ]
     },
     "metadata": {},
     "output_type": "display_data"
    },
    {
     "data": {
      "application/vnd.jupyter.widget-view+json": {
       "model_id": "c84e4108dac747d9a04dd76d933ec5e5",
       "version_major": 2,
       "version_minor": 0
      },
      "text/plain": [
       "  0%|          | 0/100 [00:00<?, ?it/s]"
      ]
     },
     "metadata": {},
     "output_type": "display_data"
    },
    {
     "data": {
      "application/vnd.jupyter.widget-view+json": {
       "model_id": "637003f64c754742850e639698796f06",
       "version_major": 2,
       "version_minor": 0
      },
      "text/plain": [
       "  0%|          | 0/100 [00:00<?, ?it/s]"
      ]
     },
     "metadata": {},
     "output_type": "display_data"
    },
    {
     "data": {
      "application/vnd.jupyter.widget-view+json": {
       "model_id": "55fec277c60043a7ba2b5f3786a652bd",
       "version_major": 2,
       "version_minor": 0
      },
      "text/plain": [
       "  0%|          | 0/100 [00:00<?, ?it/s]"
      ]
     },
     "metadata": {},
     "output_type": "display_data"
    },
    {
     "data": {
      "application/vnd.jupyter.widget-view+json": {
       "model_id": "9652bf618e4b47c3bfc8ac708c251a15",
       "version_major": 2,
       "version_minor": 0
      },
      "text/plain": [
       "  0%|          | 0/100 [00:00<?, ?it/s]"
      ]
     },
     "metadata": {},
     "output_type": "display_data"
    },
    {
     "data": {
      "application/vnd.jupyter.widget-view+json": {
       "model_id": "c8feac75f89d424c925d4634fa0a8063",
       "version_major": 2,
       "version_minor": 0
      },
      "text/plain": [
       "  0%|          | 0/100 [00:00<?, ?it/s]"
      ]
     },
     "metadata": {},
     "output_type": "display_data"
    },
    {
     "data": {
      "application/vnd.jupyter.widget-view+json": {
       "model_id": "f52b17e0dc36418f9cf3b291c9b82101",
       "version_major": 2,
       "version_minor": 0
      },
      "text/plain": [
       "  0%|          | 0/100 [00:00<?, ?it/s]"
      ]
     },
     "metadata": {},
     "output_type": "display_data"
    },
    {
     "data": {
      "application/vnd.jupyter.widget-view+json": {
       "model_id": "4d713e13ab964f118eb971a9926fa52a",
       "version_major": 2,
       "version_minor": 0
      },
      "text/plain": [
       "  0%|          | 0/100 [00:00<?, ?it/s]"
      ]
     },
     "metadata": {},
     "output_type": "display_data"
    },
    {
     "data": {
      "application/vnd.jupyter.widget-view+json": {
       "model_id": "e12773f0ee7844a382058149d20ff0d4",
       "version_major": 2,
       "version_minor": 0
      },
      "text/plain": [
       "  0%|          | 0/100 [00:00<?, ?it/s]"
      ]
     },
     "metadata": {},
     "output_type": "display_data"
    },
    {
     "data": {
      "application/vnd.jupyter.widget-view+json": {
       "model_id": "17269b7d7c9a477f936a109d844e1d66",
       "version_major": 2,
       "version_minor": 0
      },
      "text/plain": [
       "  0%|          | 0/100 [00:00<?, ?it/s]"
      ]
     },
     "metadata": {},
     "output_type": "display_data"
    },
    {
     "data": {
      "application/vnd.jupyter.widget-view+json": {
       "model_id": "0a7a4f5d63ac4f44b8aff73ca88d01fa",
       "version_major": 2,
       "version_minor": 0
      },
      "text/plain": [
       "  0%|          | 0/100 [00:00<?, ?it/s]"
      ]
     },
     "metadata": {},
     "output_type": "display_data"
    },
    {
     "data": {
      "application/vnd.jupyter.widget-view+json": {
       "model_id": "72e712dafb5647a290efdce26a69130a",
       "version_major": 2,
       "version_minor": 0
      },
      "text/plain": [
       "  0%|          | 0/100 [00:00<?, ?it/s]"
      ]
     },
     "metadata": {},
     "output_type": "display_data"
    },
    {
     "data": {
      "application/vnd.jupyter.widget-view+json": {
       "model_id": "538a1b0187d14cb686116f155cf74f15",
       "version_major": 2,
       "version_minor": 0
      },
      "text/plain": [
       "  0%|          | 0/100 [00:00<?, ?it/s]"
      ]
     },
     "metadata": {},
     "output_type": "display_data"
    },
    {
     "data": {
      "application/vnd.jupyter.widget-view+json": {
       "model_id": "cc98ec09eba7468b85342f81f6605451",
       "version_major": 2,
       "version_minor": 0
      },
      "text/plain": [
       "  0%|          | 0/100 [00:00<?, ?it/s]"
      ]
     },
     "metadata": {},
     "output_type": "display_data"
    },
    {
     "data": {
      "application/vnd.jupyter.widget-view+json": {
       "model_id": "e513dedd1c374c02a8d670dda5c6553f",
       "version_major": 2,
       "version_minor": 0
      },
      "text/plain": [
       "  0%|          | 0/100 [00:00<?, ?it/s]"
      ]
     },
     "metadata": {},
     "output_type": "display_data"
    },
    {
     "data": {
      "application/vnd.jupyter.widget-view+json": {
       "model_id": "66fe5537b5774103a88136bc8fd9036b",
       "version_major": 2,
       "version_minor": 0
      },
      "text/plain": [
       "  0%|          | 0/100 [00:00<?, ?it/s]"
      ]
     },
     "metadata": {},
     "output_type": "display_data"
    },
    {
     "data": {
      "application/vnd.jupyter.widget-view+json": {
       "model_id": "65e7d8b8cabc48a48768f58d355ac6f6",
       "version_major": 2,
       "version_minor": 0
      },
      "text/plain": [
       "  0%|          | 0/100 [00:00<?, ?it/s]"
      ]
     },
     "metadata": {},
     "output_type": "display_data"
    },
    {
     "data": {
      "application/vnd.jupyter.widget-view+json": {
       "model_id": "da9e9ed2bd20405a8fc152a5f0024c21",
       "version_major": 2,
       "version_minor": 0
      },
      "text/plain": [
       "  0%|          | 0/100 [00:00<?, ?it/s]"
      ]
     },
     "metadata": {},
     "output_type": "display_data"
    },
    {
     "data": {
      "application/vnd.jupyter.widget-view+json": {
       "model_id": "0fd8f7584c7343de9cd8f0ba57b74567",
       "version_major": 2,
       "version_minor": 0
      },
      "text/plain": [
       "  0%|          | 0/100 [00:00<?, ?it/s]"
      ]
     },
     "metadata": {},
     "output_type": "display_data"
    },
    {
     "data": {
      "application/vnd.jupyter.widget-view+json": {
       "model_id": "77be1d850eaf4504b5fd7e3920a2213e",
       "version_major": 2,
       "version_minor": 0
      },
      "text/plain": [
       "  0%|          | 0/100 [00:00<?, ?it/s]"
      ]
     },
     "metadata": {},
     "output_type": "display_data"
    },
    {
     "data": {
      "application/vnd.jupyter.widget-view+json": {
       "model_id": "a28391d199724acbb26d211abf0dd7ea",
       "version_major": 2,
       "version_minor": 0
      },
      "text/plain": [
       "  0%|          | 0/100 [00:00<?, ?it/s]"
      ]
     },
     "metadata": {},
     "output_type": "display_data"
    },
    {
     "data": {
      "application/vnd.jupyter.widget-view+json": {
       "model_id": "2be8f7937c1c4281acf62fe0292dda20",
       "version_major": 2,
       "version_minor": 0
      },
      "text/plain": [
       "  0%|          | 0/100 [00:00<?, ?it/s]"
      ]
     },
     "metadata": {},
     "output_type": "display_data"
    },
    {
     "data": {
      "application/vnd.jupyter.widget-view+json": {
       "model_id": "74bdec11d58542fa87224374c77f2f87",
       "version_major": 2,
       "version_minor": 0
      },
      "text/plain": [
       "  0%|          | 0/100 [00:00<?, ?it/s]"
      ]
     },
     "metadata": {},
     "output_type": "display_data"
    }
   ],
   "source": [
    "for i in list_of_df:\n",
    "    train_x, train_y = i.drop(['anomaly','changepoint'], axis=1), i['anomaly']\n",
    "    train_x_imp_beta = shap_feature_selector_f_beta.fit_transform(train_x, train_y.values)\n",
    "    mset_prediction_wrapper(train_x_imp_beta, improved=True)"
   ]
  },
  {
   "cell_type": "code",
   "execution_count": 23,
   "id": "4328e532699fe78d",
   "metadata": {
    "ExecuteTime": {
     "end_time": "2024-02-21T19:34:40.769741Z",
     "start_time": "2024-02-21T19:34:40.693176Z"
    },
    "collapsed": false,
    "jupyter": {
     "outputs_hidden": false
    }
   },
   "outputs": [],
   "source": [
    "full_predicted_outlier_improved = pd.concat(predicted_outlier_improved)"
   ]
  },
  {
   "cell_type": "code",
   "execution_count": null,
   "id": "39207ede37901987",
   "metadata": {
    "ExecuteTime": {
     "end_time": "2024-02-21T19:34:42.808377Z",
     "start_time": "2024-02-21T19:34:42.801101Z"
    },
    "collapsed": false,
    "jupyter": {
     "outputs_hidden": false
    }
   },
   "outputs": [],
   "source": []
  },
  {
   "cell_type": "markdown",
   "id": "93d06fe5a02bd963",
   "metadata": {
    "collapsed": false,
    "jupyter": {
     "outputs_hidden": false
    }
   },
   "source": [
    "# Improved pipeline results"
   ]
  },
  {
   "cell_type": "code",
   "execution_count": 24,
   "id": "74012b7f25140e1d",
   "metadata": {
    "ExecuteTime": {
     "end_time": "2024-02-21T19:34:46.640021Z",
     "start_time": "2024-02-21T19:34:46.350334Z"
    },
    "collapsed": false,
    "jupyter": {
     "outputs_hidden": false
    }
   },
   "outputs": [
    {
     "name": "stdout",
     "output_type": "stream",
     "text": [
      "Since you not choose numenta_time and portion, then portion will be 0.1\n",
      "False Alarm Rate 16.42 %\n",
      "Missing Alarm Rate 22.82 %\n",
      "F1 metric 0.74\n"
     ]
    }
   ],
   "source": [
    "# binary classification metrics calculation\n",
    "binary = evaluating(\n",
    "    true_outlier, \n",
    "    predicted_outlier_improved, \n",
    "    metric='binary'\n",
    ")"
   ]
  },
  {
   "cell_type": "code",
   "execution_count": 25,
   "id": "f3dfd3e22ef59aa6",
   "metadata": {
    "ExecuteTime": {
     "end_time": "2024-02-21T19:34:55.462306Z",
     "start_time": "2024-02-21T19:34:55.411687Z"
    },
    "collapsed": false,
    "jupyter": {
     "outputs_hidden": false
    }
   },
   "outputs": [
    {
     "data": {
      "text/plain": [
       "0.7599963827638699"
      ]
     },
     "execution_count": 25,
     "metadata": {},
     "output_type": "execute_result"
    }
   ],
   "source": [
    "fbeta_score(full_true_outlier.values, full_predicted_outlier_improved.values, beta=2)"
   ]
  },
  {
   "cell_type": "code",
   "execution_count": null,
   "id": "a7677199051e940f",
   "metadata": {
    "collapsed": false,
    "jupyter": {
     "outputs_hidden": false
    }
   },
   "outputs": [],
   "source": []
  }
 ],
 "metadata": {
  "kernelspec": {
   "display_name": "Python 3 (ipykernel)",
   "language": "python",
   "name": "python3"
  },
  "language_info": {
   "codemirror_mode": {
    "name": "ipython",
    "version": 3
   },
   "file_extension": ".py",
   "mimetype": "text/x-python",
   "name": "python",
   "nbconvert_exporter": "python",
   "pygments_lexer": "ipython3",
   "version": "3.9.18"
  }
 },
 "nbformat": 4,
 "nbformat_minor": 5
}
